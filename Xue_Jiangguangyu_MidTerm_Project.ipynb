{
 "cells": [
  {
   "cell_type": "markdown",
   "metadata": {},
   "source": [
    "# Credit Risk project\n",
    "\n",
    "We are giving you a dataset and asking you to create a model to make predictions.\n",
    "This assignment is less structured than the previous ones.  It is intended to be similar to what a potential\n",
    "employer would give you to evaluate your skills.\n",
    "\n",
    "So: time to show off ! Use the knowledge you have acquired in the first 7 weeks of the course to create a Jupyter notebook that presents your work (and you) in the best light.\n",
    "\n",
    "As usual, a \"correct answer\" (e.g., highly predictive model) is only part of the goal.\n",
    "Your entire research methodology should be evident, as per the \"Recipe for ML\" we have discussed in class.\n"
   ]
  },
  {
   "cell_type": "markdown",
   "metadata": {},
   "source": [
    "# The problem\n",
    "\n",
    "You are given a dataset of customers who have applied for credit.\n",
    "Each customer is associated with some number of attributes, and a rating of being a Good/Bad credit risk.\n",
    "\n",
    "## The dataset\n",
    "\n",
    "- The dataset is given in the file \"credit_data.csv\".\n",
    "- Each row corresponds to one customer.\n",
    "- There are 20 attributes, some numeric and some categorical.\n",
    "- The last column \"Credit Risk\" encodes whether the customer was judged to be a Good/Bad credit risk\n",
    "    - 1: Good credit risk\n",
    "    - 2: Bad credit risk\n",
    "\n",
    "You will use this data to come up with a model that predicts \"Credit Risk\" for a customer from the customer's attributes.\n",
    "\n",
    "### Attributes\n",
    "\n",
    "A description of the attributes is given in the plain text file \"credit_data_attributes.txt\".\n",
    "\n",
    "You will notice that the values for many attributes are encoded as strings.\n",
    "For example, attribute 7 is the customer's Employment Status, having possible values\n",
    "A71, A72, .., A75.  Per the file, \"A71\" means the customer is unemployed.\n",
    "\n",
    "#### Currency\n",
    "\n",
    "The currency units are \"DM\" (old German currency: the Deutsche Mark).\n",
    "\n",
    "As you might guess: this data is not recent; you may find anachronisms other than the currency."
   ]
  },
  {
   "cell_type": "markdown",
   "metadata": {},
   "source": [
    "# Your submission\n",
    "\n",
    "There are some ground rules, mainly to make grading easier for the GA and instructor.\n",
    "\n",
    "Your `sklearn` model should be stored in the variable `credit_model`; this will allow the GA to apply `sklearn` methods to this variable to evaluate your predictions, e.g.\n",
    ">`credit_model.predict( ... )`\n",
    "\n",
    "Your submission must contain a Jupyter notebook in a file named\n",
    ">LastName_FirstName_MidTerm_Project.ipynb\n",
    "\n",
    "where `LastName` and `FirstName` should be replaced with your name (as it appears on the class roster).\n",
    "\n",
    "**IF** your submission consists of files in addition to this one notebook, you can submit a *single* zip file.  This file **must** conform to the following rules:\n",
    "- The notebook must execute, unchanged, when unzipped into *an arbitrary directory*\n",
    "    - This means that all paths, e.g., to data files or modules, must be *relative* and not absolute.\n",
    "    "
   ]
  },
  {
   "cell_type": "markdown",
   "metadata": {},
   "source": [
    "# Credit Risk Project"
   ]
  },
  {
   "cell_type": "markdown",
   "metadata": {},
   "source": [
    "**Brief Introduction**: In this project, **Logistic Model** and **Random Forest** are implemented to do the prediction.\n",
    "- For Logistic Model, categorical features are transformed into **dummy variables** and then one of them are dropped to reduce muti-colinearity\n",
    "- For Random Forest, **unbalanced data** causes a high misclassified rate for low credit customers, while high accuracy for high credit customers. To deal with this problem, SMOTE method is used"
   ]
  },
  {
   "cell_type": "code",
   "execution_count": 1,
   "metadata": {},
   "outputs": [],
   "source": [
    "import pandas as pd\n",
    "import matplotlib.pyplot as plt\n",
    "import numpy as np"
   ]
  },
  {
   "cell_type": "markdown",
   "metadata": {},
   "source": [
    "# 0. Getting the data"
   ]
  },
  {
   "cell_type": "markdown",
   "metadata": {},
   "source": [
    "### Import data from csv file"
   ]
  },
  {
   "cell_type": "code",
   "execution_count": 2,
   "metadata": {
    "scrolled": false
   },
   "outputs": [
    {
     "data": {
      "text/html": [
       "<div>\n",
       "<style scoped>\n",
       "    .dataframe tbody tr th:only-of-type {\n",
       "        vertical-align: middle;\n",
       "    }\n",
       "\n",
       "    .dataframe tbody tr th {\n",
       "        vertical-align: top;\n",
       "    }\n",
       "\n",
       "    .dataframe thead th {\n",
       "        text-align: right;\n",
       "    }\n",
       "</style>\n",
       "<table border=\"1\" class=\"dataframe\">\n",
       "  <thead>\n",
       "    <tr style=\"text-align: right;\">\n",
       "      <th></th>\n",
       "      <th>Attribute 1</th>\n",
       "      <th>Attribute 2</th>\n",
       "      <th>Attribute 3</th>\n",
       "      <th>Attribute 4</th>\n",
       "      <th>Attribute 5</th>\n",
       "      <th>Attribute 6</th>\n",
       "      <th>Attribute 7</th>\n",
       "      <th>Attribute 8</th>\n",
       "      <th>Attribute 9</th>\n",
       "      <th>Attribute 10</th>\n",
       "      <th>...</th>\n",
       "      <th>Attribute 12</th>\n",
       "      <th>Attribute 13</th>\n",
       "      <th>Attribute 14</th>\n",
       "      <th>Attribute 15</th>\n",
       "      <th>Attribute 16</th>\n",
       "      <th>Attribute 17</th>\n",
       "      <th>Attribute 18</th>\n",
       "      <th>Attribute 19</th>\n",
       "      <th>Attribute 20</th>\n",
       "      <th>Credit Risk</th>\n",
       "    </tr>\n",
       "  </thead>\n",
       "  <tbody>\n",
       "    <tr>\n",
       "      <th>0</th>\n",
       "      <td>A11</td>\n",
       "      <td>6</td>\n",
       "      <td>A34</td>\n",
       "      <td>A43</td>\n",
       "      <td>1169</td>\n",
       "      <td>A65</td>\n",
       "      <td>A75</td>\n",
       "      <td>4</td>\n",
       "      <td>A93</td>\n",
       "      <td>A101</td>\n",
       "      <td>...</td>\n",
       "      <td>A121</td>\n",
       "      <td>67</td>\n",
       "      <td>A143</td>\n",
       "      <td>A152</td>\n",
       "      <td>2</td>\n",
       "      <td>A173</td>\n",
       "      <td>1</td>\n",
       "      <td>A192</td>\n",
       "      <td>A201</td>\n",
       "      <td>1</td>\n",
       "    </tr>\n",
       "    <tr>\n",
       "      <th>1</th>\n",
       "      <td>A12</td>\n",
       "      <td>48</td>\n",
       "      <td>A32</td>\n",
       "      <td>A43</td>\n",
       "      <td>5951</td>\n",
       "      <td>A61</td>\n",
       "      <td>A73</td>\n",
       "      <td>2</td>\n",
       "      <td>A92</td>\n",
       "      <td>A101</td>\n",
       "      <td>...</td>\n",
       "      <td>A121</td>\n",
       "      <td>22</td>\n",
       "      <td>A143</td>\n",
       "      <td>A152</td>\n",
       "      <td>1</td>\n",
       "      <td>A173</td>\n",
       "      <td>1</td>\n",
       "      <td>A191</td>\n",
       "      <td>A201</td>\n",
       "      <td>2</td>\n",
       "    </tr>\n",
       "    <tr>\n",
       "      <th>2</th>\n",
       "      <td>A14</td>\n",
       "      <td>12</td>\n",
       "      <td>A34</td>\n",
       "      <td>A46</td>\n",
       "      <td>2096</td>\n",
       "      <td>A61</td>\n",
       "      <td>A74</td>\n",
       "      <td>2</td>\n",
       "      <td>A93</td>\n",
       "      <td>A101</td>\n",
       "      <td>...</td>\n",
       "      <td>A121</td>\n",
       "      <td>49</td>\n",
       "      <td>A143</td>\n",
       "      <td>A152</td>\n",
       "      <td>1</td>\n",
       "      <td>A172</td>\n",
       "      <td>2</td>\n",
       "      <td>A191</td>\n",
       "      <td>A201</td>\n",
       "      <td>1</td>\n",
       "    </tr>\n",
       "    <tr>\n",
       "      <th>3</th>\n",
       "      <td>A11</td>\n",
       "      <td>42</td>\n",
       "      <td>A32</td>\n",
       "      <td>A42</td>\n",
       "      <td>7882</td>\n",
       "      <td>A61</td>\n",
       "      <td>A74</td>\n",
       "      <td>2</td>\n",
       "      <td>A93</td>\n",
       "      <td>A103</td>\n",
       "      <td>...</td>\n",
       "      <td>A122</td>\n",
       "      <td>45</td>\n",
       "      <td>A143</td>\n",
       "      <td>A153</td>\n",
       "      <td>1</td>\n",
       "      <td>A173</td>\n",
       "      <td>2</td>\n",
       "      <td>A191</td>\n",
       "      <td>A201</td>\n",
       "      <td>1</td>\n",
       "    </tr>\n",
       "    <tr>\n",
       "      <th>4</th>\n",
       "      <td>A11</td>\n",
       "      <td>24</td>\n",
       "      <td>A33</td>\n",
       "      <td>A40</td>\n",
       "      <td>4870</td>\n",
       "      <td>A61</td>\n",
       "      <td>A73</td>\n",
       "      <td>3</td>\n",
       "      <td>A93</td>\n",
       "      <td>A101</td>\n",
       "      <td>...</td>\n",
       "      <td>A124</td>\n",
       "      <td>53</td>\n",
       "      <td>A143</td>\n",
       "      <td>A153</td>\n",
       "      <td>2</td>\n",
       "      <td>A173</td>\n",
       "      <td>2</td>\n",
       "      <td>A191</td>\n",
       "      <td>A201</td>\n",
       "      <td>2</td>\n",
       "    </tr>\n",
       "  </tbody>\n",
       "</table>\n",
       "<p>5 rows × 21 columns</p>\n",
       "</div>"
      ],
      "text/plain": [
       "  Attribute 1  Attribute 2 Attribute 3 Attribute 4  Attribute 5 Attribute 6  \\\n",
       "0         A11            6         A34         A43         1169         A65   \n",
       "1         A12           48         A32         A43         5951         A61   \n",
       "2         A14           12         A34         A46         2096         A61   \n",
       "3         A11           42         A32         A42         7882         A61   \n",
       "4         A11           24         A33         A40         4870         A61   \n",
       "\n",
       "  Attribute 7  Attribute 8 Attribute 9 Attribute 10     ...      Attribute 12  \\\n",
       "0         A75            4         A93         A101     ...              A121   \n",
       "1         A73            2         A92         A101     ...              A121   \n",
       "2         A74            2         A93         A101     ...              A121   \n",
       "3         A74            2         A93         A103     ...              A122   \n",
       "4         A73            3         A93         A101     ...              A124   \n",
       "\n",
       "  Attribute 13  Attribute 14 Attribute 15 Attribute 16  Attribute 17  \\\n",
       "0           67          A143         A152            2          A173   \n",
       "1           22          A143         A152            1          A173   \n",
       "2           49          A143         A152            1          A172   \n",
       "3           45          A143         A153            1          A173   \n",
       "4           53          A143         A153            2          A173   \n",
       "\n",
       "  Attribute 18  Attribute 19 Attribute 20 Credit Risk  \n",
       "0            1          A192         A201           1  \n",
       "1            1          A191         A201           2  \n",
       "2            2          A191         A201           1  \n",
       "3            2          A191         A201           1  \n",
       "4            2          A191         A201           2  \n",
       "\n",
       "[5 rows x 21 columns]"
      ]
     },
     "execution_count": 2,
     "metadata": {},
     "output_type": "execute_result"
    }
   ],
   "source": [
    "Credit_file = \"./data/credit_data.csv\"\n",
    "data_train = pd.read_csv(Credit_file)\n",
    "y = data_train[\"Credit Risk\"] #Get the label for data\n",
    "data_train.head()"
   ]
  },
  {
   "cell_type": "markdown",
   "metadata": {},
   "source": [
    "From the documentation of the data, we can see that there are 13 qulitative features and 7 numerical features. However,although \"Attribute Age\" is a numerical feature. I want to transfer into bucket, which might improve the performance of the models"
   ]
  },
  {
   "cell_type": "markdown",
   "metadata": {},
   "source": [
    "# 1. Exploring data"
   ]
  },
  {
   "cell_type": "code",
   "execution_count": 3,
   "metadata": {
    "scrolled": false
   },
   "outputs": [
    {
     "name": "stdout",
     "output_type": "stream",
     "text": [
      "The explaination of the Attributes are shown below:\n",
      "\n",
      "Attribute 1:  (qualitative)\n",
      "\t       Status of existing checking account\n",
      "               A11 :      ... <    0 DM\n",
      "\t       A12 : 0 <= ... <  200 DM\n",
      "\t       A13 :      ... >= 200 DM /\n",
      "\t\t     salary assignments for at least 1 year\n",
      "               A14 : no checking account\n",
      "\n",
      "Attribute 2:  (numerical)\n",
      "\t      Duration in month\n",
      "\n",
      "Attribute 3:  (qualitative)\n",
      "\t      Credit history\n",
      "\t      A30 : no credits taken/\n",
      "\t\t    all credits paid back duly\n",
      "              A31 : all credits at this bank paid back duly\n",
      "\t      A32 : existing credits paid back duly till now\n",
      "              A33 : delay in paying off in the past\n",
      "\t      A34 : critical account/\n",
      "\t\t    other credits existing (not at this bank)\n",
      "\n",
      "Attribute 4:  (qualitative)\n",
      "\t      Purpose\n",
      "\t      A40 : car (new)\n",
      "\t      A41 : car (used)\n",
      "\t      A42 : furniture/equipment\n",
      "\t      A43 : radio/television\n",
      "\t      A44 : domestic appliances\n",
      "\t      A45 : repairs\n",
      "\t      A46 : education\n",
      "\t      A47 : (vacation - does not exist?)\n",
      "\t      A48 : retraining\n",
      "\t      A49 : business\n",
      "\t      A410 : others\n",
      "\n",
      "Attribute 5:  (numerical)\n",
      "\t      Credit amount\n",
      "\n",
      "Attibute 6:  (qualitative)\n",
      "\t      Savings account/bonds\n",
      "\t      A61 :          ... <  100 DM\n",
      "\t      A62 :   100 <= ... <  500 DM\n",
      "\t      A63 :   500 <= ... < 1000 DM\n",
      "\t      A64 :          .. >= 1000 DM\n",
      "              A65 :   unknown/ no savings account\n",
      "\n",
      "Attribute 7:  (qualitative)\n",
      "\t      Present employment since\n",
      "\t      A71 : unemployed\n",
      "\t      A72 :       ... < 1 year\n",
      "\t      A73 : 1  <= ... < 4 years  \n",
      "\t      A74 : 4  <= ... < 7 years\n",
      "\t      A75 :       .. >= 7 years\n",
      "\n",
      "Attribute 8:  (numerical)\n",
      "\t      Installment rate in percentage of disposable income\n",
      "\n",
      "Attribute 9:  (qualitative)\n",
      "\t      Personal status and sex\n",
      "\t      A91 : male   : divorced/separated\n",
      "\t      A92 : female : divorced/separated/married\n",
      "              A93 : male   : single\n",
      "\t      A94 : male   : married/widowed\n",
      "\t      A95 : female : single\n",
      "\n",
      "Attribute 10: (qualitative)\n",
      "\t      Other debtors / guarantors\n",
      "\t      A101 : none\n",
      "\t      A102 : co-applicant\n",
      "\t      A103 : guarantor\n",
      "\n",
      "Attribute 11: (numerical)\n",
      "\t      Present residence since\n",
      "\n",
      "Attribute 12: (qualitative)\n",
      "\t      Property\n",
      "\t      A121 : real estate\n",
      "\t      A122 : if not A121 : building society savings agreement/\n",
      "\t\t\t\t   life insurance\n",
      "              A123 : if not A121/A122 : car or other, not in attribute 6\n",
      "\t      A124 : unknown / no property\n",
      "\n",
      "Attribute 13: (numerical)\n",
      "\t      Age in years\n",
      "\n",
      "Attribute 14: (qualitative)\n",
      "\t      Other installment plans \n",
      "\t      A141 : bank\n",
      "\t      A142 : stores\n",
      "\t      A143 : none\n",
      "\n",
      "Attribute 15: (qualitative)\n",
      "\t      Housing\n",
      "\t      A151 : rent\n",
      "\t      A152 : own\n",
      "\t      A153 : for free\n",
      "\n",
      "Attribute 16: (numerical)\n",
      "              Number of existing credits at this bank\n",
      "\n",
      "Attribute 17: (qualitative)\n",
      "\t      Job\n",
      "\t      A171 : unemployed/ unskilled  - non-resident\n",
      "\t      A172 : unskilled - resident\n",
      "\t      A173 : skilled employee / official\n",
      "\t      A174 : management/ self-employed/\n",
      "\t\t     highly qualified employee/ officer\n",
      "\n",
      "Attribute 18: (numerical)\n",
      "\t      Number of people being liable to provide maintenance for\n",
      "\n",
      "Attribute 19: (qualitative)\n",
      "\t      Telephone\n",
      "\t      A191 : none\n",
      "\t      A192 : yes, registered under the customers name\n",
      "\n",
      "Attribute 20: (qualitative)\n",
      "\t      foreign worker\n",
      "\t      A201 : yes\n",
      "\t      A202 : no\n",
      "\n"
     ]
    }
   ],
   "source": [
    "f = open(\"./data/credit_data_attributes.txt\", \"r\")\n",
    "print(\"The explaination of the Attributes are shown below:\\n\")\n",
    "print(f.read())"
   ]
  },
  {
   "cell_type": "code",
   "execution_count": 4,
   "metadata": {},
   "outputs": [
    {
     "data": {
      "text/html": [
       "<div>\n",
       "<style scoped>\n",
       "    .dataframe tbody tr th:only-of-type {\n",
       "        vertical-align: middle;\n",
       "    }\n",
       "\n",
       "    .dataframe tbody tr th {\n",
       "        vertical-align: top;\n",
       "    }\n",
       "\n",
       "    .dataframe thead th {\n",
       "        text-align: right;\n",
       "    }\n",
       "</style>\n",
       "<table border=\"1\" class=\"dataframe\">\n",
       "  <thead>\n",
       "    <tr style=\"text-align: right;\">\n",
       "      <th></th>\n",
       "      <th>Attribute 2</th>\n",
       "      <th>Attribute 5</th>\n",
       "      <th>Attribute 8</th>\n",
       "      <th>Attribute 11</th>\n",
       "      <th>Attribute 13</th>\n",
       "      <th>Attribute 16</th>\n",
       "      <th>Attribute 18</th>\n",
       "      <th>Credit Risk</th>\n",
       "    </tr>\n",
       "  </thead>\n",
       "  <tbody>\n",
       "    <tr>\n",
       "      <th>count</th>\n",
       "      <td>1000.000000</td>\n",
       "      <td>1000.000000</td>\n",
       "      <td>1000.000000</td>\n",
       "      <td>1000.000000</td>\n",
       "      <td>1000.000000</td>\n",
       "      <td>1000.000000</td>\n",
       "      <td>1000.000000</td>\n",
       "      <td>1000.000000</td>\n",
       "    </tr>\n",
       "    <tr>\n",
       "      <th>mean</th>\n",
       "      <td>20.903000</td>\n",
       "      <td>3271.258000</td>\n",
       "      <td>2.973000</td>\n",
       "      <td>2.845000</td>\n",
       "      <td>35.546000</td>\n",
       "      <td>1.407000</td>\n",
       "      <td>1.155000</td>\n",
       "      <td>1.300000</td>\n",
       "    </tr>\n",
       "    <tr>\n",
       "      <th>std</th>\n",
       "      <td>12.058814</td>\n",
       "      <td>2822.736876</td>\n",
       "      <td>1.118715</td>\n",
       "      <td>1.103718</td>\n",
       "      <td>11.375469</td>\n",
       "      <td>0.577654</td>\n",
       "      <td>0.362086</td>\n",
       "      <td>0.458487</td>\n",
       "    </tr>\n",
       "    <tr>\n",
       "      <th>min</th>\n",
       "      <td>4.000000</td>\n",
       "      <td>250.000000</td>\n",
       "      <td>1.000000</td>\n",
       "      <td>1.000000</td>\n",
       "      <td>19.000000</td>\n",
       "      <td>1.000000</td>\n",
       "      <td>1.000000</td>\n",
       "      <td>1.000000</td>\n",
       "    </tr>\n",
       "    <tr>\n",
       "      <th>25%</th>\n",
       "      <td>12.000000</td>\n",
       "      <td>1365.500000</td>\n",
       "      <td>2.000000</td>\n",
       "      <td>2.000000</td>\n",
       "      <td>27.000000</td>\n",
       "      <td>1.000000</td>\n",
       "      <td>1.000000</td>\n",
       "      <td>1.000000</td>\n",
       "    </tr>\n",
       "    <tr>\n",
       "      <th>50%</th>\n",
       "      <td>18.000000</td>\n",
       "      <td>2319.500000</td>\n",
       "      <td>3.000000</td>\n",
       "      <td>3.000000</td>\n",
       "      <td>33.000000</td>\n",
       "      <td>1.000000</td>\n",
       "      <td>1.000000</td>\n",
       "      <td>1.000000</td>\n",
       "    </tr>\n",
       "    <tr>\n",
       "      <th>75%</th>\n",
       "      <td>24.000000</td>\n",
       "      <td>3972.250000</td>\n",
       "      <td>4.000000</td>\n",
       "      <td>4.000000</td>\n",
       "      <td>42.000000</td>\n",
       "      <td>2.000000</td>\n",
       "      <td>1.000000</td>\n",
       "      <td>2.000000</td>\n",
       "    </tr>\n",
       "    <tr>\n",
       "      <th>max</th>\n",
       "      <td>72.000000</td>\n",
       "      <td>18424.000000</td>\n",
       "      <td>4.000000</td>\n",
       "      <td>4.000000</td>\n",
       "      <td>75.000000</td>\n",
       "      <td>4.000000</td>\n",
       "      <td>2.000000</td>\n",
       "      <td>2.000000</td>\n",
       "    </tr>\n",
       "  </tbody>\n",
       "</table>\n",
       "</div>"
      ],
      "text/plain": [
       "       Attribute 2   Attribute 5  Attribute 8  Attribute 11  Attribute 13  \\\n",
       "count  1000.000000   1000.000000  1000.000000   1000.000000   1000.000000   \n",
       "mean     20.903000   3271.258000     2.973000      2.845000     35.546000   \n",
       "std      12.058814   2822.736876     1.118715      1.103718     11.375469   \n",
       "min       4.000000    250.000000     1.000000      1.000000     19.000000   \n",
       "25%      12.000000   1365.500000     2.000000      2.000000     27.000000   \n",
       "50%      18.000000   2319.500000     3.000000      3.000000     33.000000   \n",
       "75%      24.000000   3972.250000     4.000000      4.000000     42.000000   \n",
       "max      72.000000  18424.000000     4.000000      4.000000     75.000000   \n",
       "\n",
       "       Attribute 16  Attribute 18  Credit Risk  \n",
       "count   1000.000000   1000.000000  1000.000000  \n",
       "mean       1.407000      1.155000     1.300000  \n",
       "std        0.577654      0.362086     0.458487  \n",
       "min        1.000000      1.000000     1.000000  \n",
       "25%        1.000000      1.000000     1.000000  \n",
       "50%        1.000000      1.000000     1.000000  \n",
       "75%        2.000000      1.000000     2.000000  \n",
       "max        4.000000      2.000000     2.000000  "
      ]
     },
     "execution_count": 4,
     "metadata": {},
     "output_type": "execute_result"
    }
   ],
   "source": [
    "data_train.describe()"
   ]
  },
  {
   "cell_type": "code",
   "execution_count": 5,
   "metadata": {},
   "outputs": [
    {
     "name": "stdout",
     "output_type": "stream",
     "text": [
      "<class 'pandas.core.frame.DataFrame'>\n",
      "RangeIndex: 1000 entries, 0 to 999\n",
      "Data columns (total 21 columns):\n",
      "Attribute 1     1000 non-null object\n",
      "Attribute 2     1000 non-null int64\n",
      "Attribute 3     1000 non-null object\n",
      "Attribute 4     1000 non-null object\n",
      "Attribute 5     1000 non-null int64\n",
      "Attribute 6     1000 non-null object\n",
      "Attribute 7     1000 non-null object\n",
      "Attribute 8     1000 non-null int64\n",
      "Attribute 9     1000 non-null object\n",
      "Attribute 10    1000 non-null object\n",
      "Attribute 11    1000 non-null int64\n",
      "Attribute 12    1000 non-null object\n",
      "Attribute 13    1000 non-null int64\n",
      "Attribute 14    1000 non-null object\n",
      "Attribute 15    1000 non-null object\n",
      "Attribute 16    1000 non-null int64\n",
      "Attribute 17    1000 non-null object\n",
      "Attribute 18    1000 non-null int64\n",
      "Attribute 19    1000 non-null object\n",
      "Attribute 20    1000 non-null object\n",
      "Credit Risk     1000 non-null int64\n",
      "dtypes: int64(8), object(13)\n",
      "memory usage: 164.1+ KB\n"
     ]
    }
   ],
   "source": [
    "data_train.info()"
   ]
  },
  {
   "cell_type": "code",
   "execution_count": 6,
   "metadata": {},
   "outputs": [
    {
     "data": {
      "image/png": "[encoded data removed]",
      "text/plain": [
       "<Figure size 432x288 with 2 Axes>"
      ]
     },
     "metadata": {},
     "output_type": "display_data"
    }
   ],
   "source": [
    "import seaborn as sns\n",
    "_ = sns.heatmap(data_train.corr(), vmax=.3, center=0, square=True, linewidths=.5)"
   ]
  },
  {
   "cell_type": "markdown",
   "metadata": {},
   "source": [
    "The correlation between is not high. Thus we don't need to reduce correlation by using method including PCA"
   ]
  },
  {
   "cell_type": "code",
   "execution_count": 7,
   "metadata": {},
   "outputs": [],
   "source": [
    "def plot_attrs(df, attrs, attr_type=\"Cat\", normalize=True, plot=True):\n",
    "    \"\"\"\n",
    "    Plot/print the distribution of one or more attributes of DataFrame\n",
    "    \n",
    "    Parameters\n",
    "    ----------\n",
    "    df: DataFrame\n",
    "    attrs: List of attributes (i.e., column names)\n",
    "    \n",
    "    Optional\n",
    "    --------\n",
    "    attr_type: String; \n",
    "      \"Cat\" to indicate that the attributes in attrs are Categorical (so use value_counts)\n",
    "      Otherwise: the attributes must be numeric columns (so use histogram)\n",
    "    \"\"\"\n",
    "    num_attrs = len(attrs)\n",
    "    ncols=2\n",
    "    nrows = max(1,round(num_attrs/ncols))\n",
    "    if num_attrs==1:\n",
    "        fig, axes = plt.subplots(nrows=nrows, ncols=1, figsize=(4, num_attrs*3))\n",
    "    else:\n",
    "        fig, axes = plt.subplots(nrows=nrows, ncols=ncols, figsize=(ncols*4, num_attrs*3))\n",
    "    # Make sure axes is an array (special case when num_attrs==1)\n",
    "    if num_attrs == 1:\n",
    "        axes =np.array( [ axes ])\n",
    "        \n",
    "    for i, attr in enumerate(attrs):\n",
    "        if attr_type == \"Cat\":\n",
    "            alpha_bar_chart = 0.55\n",
    "            plot_data = df.loc[:, attr ].value_counts(normalize=normalize).sort_index()\n",
    "            \n",
    "            args = { \"kind\":\"bar\" } #, \"alpha\":alpha_bar_chart}\n",
    "            kind=\"bar\"\n",
    "        else:\n",
    "            plot_data = df.loc[:, [attr] ]\n",
    "            \n",
    "            args = { \"kind\":\"hist\"}\n",
    "            if normalize:\n",
    "                args[\"density\"] = True\n",
    "            kind=\"hist\"\n",
    "            \n",
    "        if plot:\n",
    "            _ = plot_data.plot(title=attr, ax=axes.flatten()[i], **args)\n",
    "        else:\n",
    "            print(attr + \"\\n\")\n",
    "            print(plot_data)\n",
    "            print(\"\\n\")"
   ]
  },
  {
   "cell_type": "code",
   "execution_count": 8,
   "metadata": {
    "scrolled": false
   },
   "outputs": [
    {
     "data": {
      "image/png": "[encoded data removed]",
      "text/plain": [
       "<Figure size 576x2592 with 12 Axes>"
      ]
     },
     "metadata": {},
     "output_type": "display_data"
    }
   ],
   "source": [
    "plot_attrs(data_train, [ \"Attribute 1\", \"Attribute 3\", \"Attribute 4\",\"Attribute 6\",\"Attribute 7\",\"Attribute 9\",\n",
    "                \"Attribute 10\",\"Attribute 12\",\"Attribute 14\",\"Attribute 15\",\"Attribute 17\",\"Attribute 19\"], attr_type=\"Cat\", plot=True)"
   ]
  },
  {
   "cell_type": "code",
   "execution_count": 9,
   "metadata": {},
   "outputs": [
    {
     "data": {
      "image/png": "[encoded data removed]",
      "text/plain": [
       "<Figure size 576x1296 with 6 Axes>"
      ]
     },
     "metadata": {},
     "output_type": "display_data"
    }
   ],
   "source": [
    "plot_attrs(data_train, [\"Attribute 2\",\"Attribute 5\",\"Attribute 8\",\"Attribute 11\",\"Attribute 16\",\"Attribute 18\"], attr_type=\"Num\")"
   ]
  },
  {
   "cell_type": "markdown",
   "metadata": {},
   "source": [
    "\n",
    "# 2. Making pipeline and prepocessing of data"
   ]
  },
  {
   "cell_type": "markdown",
   "metadata": {},
   "source": [
    "### 2.1 Pipelines"
   ]
  },
  {
   "cell_type": "markdown",
   "metadata": {},
   "source": [
    "**Three main pipelines:**\n",
    "- Numerical pipeline\n",
    "- Categorical pipeline\n",
    "- Agebucket pipeline\n"
   ]
  },
  {
   "cell_type": "markdown",
   "metadata": {},
   "source": [
    "Create several base pipelines:\n",
    "- `DataFrameSelector`: select several columns of data, return DataFrame (input:DataFrame,output: DataFrame)\n",
    "- `DataFramSelector_toarray`: select several columns of data and transform and return an array (input:DataFrame,output: array)\n",
    "- `strtoint`: transform Categorical data into int by Removing A from every string (input:DataFrame,output: array)\n",
    "- `todummy_drop`: utilize OneHotEncoder to transform  \"int\" form categorical data into several dummy variables and drop the first column of each set of dummy varaibles (input:array,output: array)\n"
   ]
  },
  {
   "cell_type": "code",
   "execution_count": 10,
   "metadata": {},
   "outputs": [],
   "source": [
    "from sklearn.base import BaseEstimator, TransformerMixin\n",
    "from sklearn.pipeline import Pipeline\n",
    "try:\n",
    "    from sklearn.impute import SimpleImputer # Scikit-Learn 0.20+\n",
    "except ImportError:\n",
    "    from sklearn.preprocessing import Imputer as SimpleImputer\n",
    "from sklearn.preprocessing import OneHotEncoder\n",
    "from sklearn.pipeline import FeatureUnion\n",
    "\n",
    "#Select the data\n",
    "class DataFrameSelector(BaseEstimator, TransformerMixin):\n",
    "    def __init__(self, attribute_names):\n",
    "        self.attribute_names = attribute_names\n",
    "    def fit(self, X, y=None):\n",
    "        return self\n",
    "    def transform(self, X):                            \n",
    "        return X[self.attribute_names]\n",
    "\n",
    "class DataFrameSelector_toarray(BaseEstimator, TransformerMixin):\n",
    "    def __init__(self, attribute_names):\n",
    "        self.attribute_names = attribute_names\n",
    "    def fit(self, X, y=None):\n",
    "        return self\n",
    "    def transform(self, X):                            \n",
    "        return X[self.attribute_names].values\n",
    "    \n",
    "class strtoint(BaseEstimator, TransformerMixin):\n",
    "    def fit(self,X,y = None):\n",
    "        return self\n",
    "    def transform(self,X):\n",
    "        temp = X.values\n",
    "        for i,item_1 in enumerate(temp):\n",
    "            for j,item_2 in enumerate(item_1):\n",
    "                temp[i][j] = int(item_2[1:])\n",
    "        return temp\n",
    "    \n",
    "class todummy_drop(BaseEstimator, TransformerMixin):\n",
    "    def fit(self,X,y = None):\n",
    "        return self\n",
    "    def transform(self,X):\n",
    "        temp = X.T\n",
    "        res = np.delete(OneHotEncoder(sparse=False,categories='auto').fit_transform(temp[0].T.reshape(-1,1)),0,1) \n",
    "        for i,item in enumerate(temp[1:]):\n",
    "            dm_0 = np.delete(OneHotEncoder(sparse=False,categories='auto').fit_transform(temp[i].T.reshape(-1,1)),0,1)\n",
    "            res =np.concatenate((res,dm_0),axis = 1)\n",
    "        return res\n",
    "\n",
    "class Age_bucket(BaseEstimator, TransformerMixin):\n",
    "    def __init__(self, n):# n is interval length for each bucket\n",
    "        self.n = n\n",
    "    def fit(self, X, y=None):\n",
    "        return self\n",
    "    def transform(self, X):\n",
    "        X = X.values\n",
    "\n",
    "        max_0,min_0 = int(X.max()),int(X.min())\n",
    "        len_0 = self.n\n",
    "        bkt_num = np.floor((max_0-min_0+1)/ len_0)    #determine how many buckets according to max and min age\n",
    "\n",
    "        if  ((max_0-min_0+1) % len_0) != 0 :\n",
    "            bkt_num+=1                     #if there are remainder, bucket number+1\n",
    "            \n",
    "        print(\"Transform age into {t} buckets and {m} dummy variables\".format(t = bkt_num, m=bkt_num-1))\n",
    "        \n",
    "        j = 0\n",
    "        while(j<bkt_num):\n",
    "            for i,item in enumerate(X):\n",
    "                if (j*len_0+min_0)<= int(item) and  int(item) <(j+1)*len_0+min_0:\n",
    "\n",
    "                    X[i]=j\n",
    "            j +=1\n",
    "        \n",
    "        return X\n",
    "    \n",
    "features_age = [\"Attribute 13\"]\n",
    "age_pipeline = Pipeline([\n",
    "        (\"select_numeric\", DataFrameSelector( features_age )), #set the parameter for DataDrameSelector\n",
    "        (\"Agebucket\",  Age_bucket(n =10)),\n",
    "        (\" todummy_drop\",  todummy_drop())\n",
    "  \n",
    "    ])\n",
    "    \n",
    "cat_features = [\"Attribute 1\", \"Attribute 3\", \"Attribute 4\",\"Attribute 6\",\"Attribute 7\",\"Attribute 9\",\n",
    "                \"Attribute 10\",\"Attribute 12\",\"Attribute 14\",\"Attribute 15\",\"Attribute 17\",\"Attribute 19\",\"Attribute 20\"]\n",
    "cat_pipeline = Pipeline([\n",
    "        (\"select_cat\", DataFrameSelector( cat_features )), #set the parameter for DataDrameSelector\n",
    "        (\"strtoint\", strtoint()),         #set the parameter for SimpleImputer, Use median for the missing value\n",
    "        (\"todummy_drop\",todummy_drop())\n",
    "    ])\n",
    "\n",
    "num_features=[\"Attribute 2\",\"Attribute 5\",\"Attribute 8\",\"Attribute 11\",\"Attribute 16\",\"Attribute 18\"]\n",
    "num_pipeline = Pipeline([\n",
    "        (\"select_numeric\", DataFrameSelector_toarray( num_features )), #set the parameter for DataDrameSelector\n",
    "    ])\n",
    "    \n",
    "preprocess_pipeline_logistic = FeatureUnion(transformer_list=[\n",
    "        (\"num_pipeline\", num_pipeline),\n",
    "        (\"cat_pipeline\", cat_pipeline),\n",
    "        (\"age_pipeline\", age_pipeline)\n",
    "    ])"
   ]
  },
  {
   "cell_type": "code",
   "execution_count": 11,
   "metadata": {},
   "outputs": [
    {
     "name": "stdout",
     "output_type": "stream",
     "text": [
      "Transform age into 6.0 buckets and 5.0 dummy variables\n"
     ]
    }
   ],
   "source": [
    "X = preprocess_pipeline_logistic.fit_transform(data_train)"
   ]
  },
  {
   "cell_type": "markdown",
   "metadata": {},
   "source": [
    "### 2.2 Training set and Testing set"
   ]
  },
  {
   "cell_type": "markdown",
   "metadata": {},
   "source": [
    "Spliting data set into two\n",
    "- Training set: size of 700\n",
    "- Testing set: size of 300\n",
    "- Futhermore, Training set is divided into 5, using cross validation. This will help us to determine what is the best parameter in models(especially for `Random Forest` to find optimal `n_estimators` and `max_depth`) "
   ]
  },
  {
   "cell_type": "code",
   "execution_count": 12,
   "metadata": {},
   "outputs": [],
   "source": [
    "from sklearn.model_selection import train_test_split\n",
    "X_train, X_test, y_train, y_test = train_test_split(X, y, test_size=0.3,random_state=1)"
   ]
  },
  {
   "cell_type": "code",
   "execution_count": 13,
   "metadata": {},
   "outputs": [
    {
     "data": {
      "text/plain": [
       "(1000, 54)"
      ]
     },
     "execution_count": 13,
     "metadata": {},
     "output_type": "execute_result"
    }
   ],
   "source": [
    "X.shape"
   ]
  },
  {
   "cell_type": "markdown",
   "metadata": {},
   "source": [
    "# 3. Logistic Model "
   ]
  },
  {
   "cell_type": "markdown",
   "metadata": {},
   "source": [
    "### Logistic Model with unbalanced data"
   ]
  },
  {
   "cell_type": "markdown",
   "metadata": {},
   "source": [
    "In Logistic Model, wen need to transform categorical data into dummy variables. After that, one of the dummy variables need to be dropped to eliminate colinearity. Utilizing the pipeline above, there are 54 features in logistic model after transformation."
   ]
  },
  {
   "cell_type": "markdown",
   "metadata": {},
   "source": [
    "### 3.1 Using cross validation"
   ]
  },
  {
   "cell_type": "markdown",
   "metadata": {},
   "source": [
    "Cross Validation is used here to evaluate the performance of logistic model"
   ]
  },
  {
   "cell_type": "code",
   "execution_count": 14,
   "metadata": {},
   "outputs": [
    {
     "data": {
      "text/plain": [
       "0.755790820231353"
      ]
     },
     "execution_count": 14,
     "metadata": {},
     "output_type": "execute_result"
    }
   ],
   "source": [
    "from sklearn import linear_model, preprocessing, model_selection\n",
    "from sklearn.model_selection import cross_val_score\n",
    "logistic_clf_1 = linear_model.LogisticRegression(solver='liblinear')\n",
    "SCORE_1 = cross_val_score(logistic_clf_1, X_train, y_train, cv=5, scoring=\"accuracy\")\n",
    "SCORE_1 = SCORE_1.mean()\n",
    "SCORE_1"
   ]
  },
  {
   "cell_type": "code",
   "execution_count": 15,
   "metadata": {},
   "outputs": [
    {
     "name": "stdout",
     "output_type": "stream",
     "text": [
      "Logistic Model  : Accuracy = 0.7558\n"
     ]
    }
   ],
   "source": [
    "print(\"{s}: Accuracy = {a:.4f}\".format(s=\"Logistic Model  \", a=SCORE_1.mean()))"
   ]
  },
  {
   "cell_type": "markdown",
   "metadata": {},
   "source": [
    "### 3.2 Fiting model and predit on the testing set"
   ]
  },
  {
   "cell_type": "markdown",
   "metadata": {},
   "source": [
    "I also try the method without using Cross validation. Just to compare the result with other model below.\n",
    "\n",
    "In other words, I use training set to train the data and testing set to evaluate the data"
   ]
  },
  {
   "cell_type": "code",
   "execution_count": 16,
   "metadata": {},
   "outputs": [
    {
     "name": "stdout",
     "output_type": "stream",
     "text": [
      "On the training set, the accuracy is 0.7943\n",
      "On the testing set, the accuracy is 0.7633\n"
     ]
    }
   ],
   "source": [
    "logistic_clf_2 = linear_model.LogisticRegression(solver='liblinear')\n",
    "logistic_clf_2.fit(X_train,y_train)\n",
    "print(\"On the training set, the accuracy is {t:.4f}\".format(t = logistic_clf_2.score(X_train,y_train)))\n",
    "print(\"On the testing set, the accuracy is {t:.4f}\".format(t = logistic_clf_2.score(X_test,y_test)))"
   ]
  },
  {
   "cell_type": "markdown",
   "metadata": {},
   "source": [
    "**Conclusion: The accuracy of cross validation and testing set are similar to each other as expected**"
   ]
  },
  {
   "cell_type": "markdown",
   "metadata": {},
   "source": [
    "### 3.3 Confusion Matrics"
   ]
  },
  {
   "cell_type": "markdown",
   "metadata": {},
   "source": [
    "**We can't only focus on the accuracy.**\n",
    "\n",
    "In this case, **a poor credit customer classfied as good credit one** is very undesirable. We will lose a lot of money if  a large amount of poor credit customers are classified as good credit ones."
   ]
  },
  {
   "cell_type": "code",
   "execution_count": 17,
   "metadata": {},
   "outputs": [],
   "source": [
    "from sklearn.model_selection import cross_val_predict\n",
    "from sklearn import datasets, svm, metrics\n",
    "from sklearn.metrics import precision_recall_curve\n",
    "expected_1 = y_train\n",
    "predicted_1 = cross_val_predict(logistic_clf_1, X_train, y_train, cv=5)\n",
    "confusion_mat_L_1 = metrics.confusion_matrix(expected_1, predicted_1)"
   ]
  },
  {
   "cell_type": "code",
   "execution_count": 18,
   "metadata": {},
   "outputs": [],
   "source": [
    "# %load mnist_plot_confusion.py\n",
    "import itertools\n",
    "\n",
    "def plot_confusion_matrix(cm, classes,\n",
    "                          normalize=False,\n",
    "                          title='Confusion matrix',\n",
    "                          cmap=plt.cm.Blues):\n",
    "    \"\"\"\n",
    "    This function prints and plots the confusion matrix.\n",
    "    Normalization can be applied by setting `normalize=True`.\n",
    "    \"\"\"\n",
    "    if normalize:\n",
    "        # Normalize by row sums\n",
    "        cm_pct = cm.astype('float') / cm.sum(axis=1)[:, np.newaxis]\n",
    "        cm = np.around( 100 * cm_pct, decimals=0).astype(int)\n",
    "        \n",
    "        print(\"Normalized confusion matrix\")\n",
    "    else:\n",
    "        print('Confusion matrix, without normalization')\n",
    "\n",
    "    plt.imshow(cm, interpolation='nearest', cmap=cmap)\n",
    "    plt.title(title)\n",
    "    plt.colorbar()\n",
    "    tick_marks = np.arange(len(classes))\n",
    "    plt.xticks(tick_marks, classes, rotation=45)\n",
    "    plt.yticks(tick_marks, classes)\n",
    "\n",
    "    fmt = '.2f' if normalize else 'd'\n",
    "    fmt = 'd'\n",
    "    thresh = cm.max() / 2.\n",
    "    for i, j in itertools.product(range(cm.shape[0]), range(cm.shape[1])):\n",
    "        # Plot coordinate system has origin in upper left corner\n",
    "        # -  coordinates are (horizontal offset, vertical offset)\n",
    "        # -  so cm[i,j] should appear in plot coordinate (j,i)\n",
    "        plt.text(j, i, format(cm[i, j], fmt),\n",
    "                 horizontalalignment=\"center\",\n",
    "                 color=\"white\" if cm[i, j] > thresh else \"black\")\n",
    "\n",
    "    plt.ylabel('True label')\n",
    "    plt.xlabel('Predicted label')\n",
    "    plt.tight_layout()\n"
   ]
  },
  {
   "cell_type": "code",
   "execution_count": 19,
   "metadata": {},
   "outputs": [
    {
     "name": "stdout",
     "output_type": "stream",
     "text": [
      "Confusion matrix, without normalization\n"
     ]
    },
    {
     "data": {
      "image/png": "[encoded data removed]",
      "text/plain": [
       "<Figure size 432x288 with 2 Axes>"
      ]
     },
     "metadata": {},
     "output_type": "display_data"
    }
   ],
   "source": [
    "plot_confusion_matrix(confusion_mat_L_1, range(2))"
   ]
  },
  {
   "cell_type": "code",
   "execution_count": 20,
   "metadata": {},
   "outputs": [
    {
     "name": "stdout",
     "output_type": "stream",
     "text": [
      "Given good credit customer,prediction accuracy is 0.8539094650205762\n",
      "Given poor credit customer,prediction accuracy(Precision) is 0.5327102803738317\n"
     ]
    }
   ],
   "source": [
    "t1 = confusion_mat_L_1[0][0]/(confusion_mat_L_1[0][0]+confusion_mat_L_1[0][1])\n",
    "t2 = confusion_mat_L_1[1][1]/(confusion_mat_L_1[1][1]+confusion_mat_L_1[1][0])\n",
    "print(\"Given good credit customer,prediction accuracy is {t1}\".format(t1 =t1))\n",
    "print(\"Given poor credit customer,prediction accuracy(Precision) is {t2}\".format(t2 =t2))"
   ]
  },
  {
   "cell_type": "markdown",
   "metadata": {},
   "source": [
    "**Discussion**: These accuracy above are just very bad in practice. We don't want to see so many **poor credit people classified as qualified customers**, which may bring **huge loss** if the company lend money to them base on this prediction."
   ]
  },
  {
   "cell_type": "markdown",
   "metadata": {},
   "source": [
    "I guess this result is because of the **unbalanced data**. There are more people with good credit in our sample as shown below"
   ]
  },
  {
   "cell_type": "code",
   "execution_count": 21,
   "metadata": {},
   "outputs": [
    {
     "data": {
      "text/plain": [
       "1    486\n",
       "2    214\n",
       "Name: Credit Risk, dtype: int64"
      ]
     },
     "execution_count": 21,
     "metadata": {},
     "output_type": "execute_result"
    }
   ],
   "source": [
    "y_train.value_counts()"
   ]
  },
  {
   "cell_type": "markdown",
   "metadata": {},
   "source": [
    "**Good credit people are far more that the poor credit ones!** \n",
    "\n",
    "For the data in the training set, And this  ratio is around 7:3. **The unbalanced data might cause our model to tend to predict more 1(low risk）**"
   ]
  },
  {
   "cell_type": "markdown",
   "metadata": {},
   "source": [
    "### 3.4 Deal with unbalanced data problem"
   ]
  },
  {
   "cell_type": "markdown",
   "metadata": {},
   "source": [
    "Here, we try to **assign different weights** to the sample to crack the unbalanced data problem."
   ]
  },
  {
   "cell_type": "markdown",
   "metadata": {},
   "source": [
    "When deciding weights, two factors are considered:\n",
    "- The original data, good credit people: poor credit people = 7:3. So we need to assign a weight of {1:0.3,2:0.7} to keep a perfect balance\n",
    "- However, we tend to consider the accuracy for poor credit people more important than  that for good credit people. So even more weights should be assigned to class 2(poor credit people).\n",
    "\n",
    "So I will try **{1:0.25,2:0.75}**.\n",
    "\n",
    "**But we have to say that, if weights are assigned, the overall accuracy will be sacrificed**"
   ]
  },
  {
   "cell_type": "code",
   "execution_count": 22,
   "metadata": {},
   "outputs": [
    {
     "name": "stdout",
     "output_type": "stream",
     "text": [
      "On the training set, the accuracy is 0.7143\n",
      "On the testing set, the accuracy is 0.6733\n"
     ]
    }
   ],
   "source": [
    "logistic_clf_ba = linear_model.LogisticRegression(solver='liblinear',class_weight = {1:0.25,2:0.75})\n",
    "logistic_clf_ba.fit(X_train,y_train)\n",
    "print(\"On the training set, the accuracy is {t:.4f}\".format(t = logistic_clf_ba.score(X_train,y_train)))\n",
    "print(\"On the testing set, the accuracy is {t:.4f}\".format(t = logistic_clf_ba.score(X_test,y_test)))"
   ]
  },
  {
   "cell_type": "code",
   "execution_count": 23,
   "metadata": {},
   "outputs": [
    {
     "name": "stdout",
     "output_type": "stream",
     "text": [
      "Confusion matrix, without normalization\n"
     ]
    },
    {
     "data": {
      "image/png": "[encoded data removed]",
      "text/plain": [
       "<Figure size 432x288 with 2 Axes>"
      ]
     },
     "metadata": {},
     "output_type": "display_data"
    }
   ],
   "source": [
    "expected_L_ba = y_test\n",
    "predicted_L_ba = logistic_clf_ba.predict(X_test)\n",
    "confusion_mat_L_ba = metrics.confusion_matrix(expected_L_ba, predicted_L_ba)\n",
    "plot_confusion_matrix(confusion_mat_L_ba, range(2))"
   ]
  },
  {
   "cell_type": "code",
   "execution_count": 24,
   "metadata": {},
   "outputs": [
    {
     "name": "stdout",
     "output_type": "stream",
     "text": [
      "Given good credit customer,prediction accuracy is 0.6401869158878505\n",
      "Given poor credit customer,prediction accuracy(Precision) is 0.7558139534883721\n"
     ]
    }
   ],
   "source": [
    "t1 = confusion_mat_L_ba[0][0]/(confusion_mat_L_ba[0][0]+confusion_mat_L_ba[0][1])\n",
    "t2 = confusion_mat_L_ba[1][1]/(confusion_mat_L_ba[1][1]+confusion_mat_L_ba[1][0])\n",
    "print(\"Given good credit customer,prediction accuracy is {t1}\".format(t1 =t1))\n",
    "print(\"Given poor credit customer,prediction accuracy(Precision) is {t2}\".format(t2 =t2))"
   ]
  },
  {
   "cell_type": "markdown",
   "metadata": {},
   "source": [
    "**Conclusion: After assigning different weights({1:0.25,2:0.75}) to sample, I achieved a much better matrics.**\n",
    "Of course, the price to that is sacrifice some of the accuracy\n",
    "\n",
    "The overall acuuracy drops around 10 percents, but the accuracy for poor credit customer **increases over 23 percents.**\n",
    "\n",
    "Accuracy of overall is **sacrificed for** accuracy for poor credit people!"
   ]
  },
  {
   "cell_type": "markdown",
   "metadata": {},
   "source": [
    "**In this way, the unbalanced data problem is solved.**"
   ]
  },
  {
   "cell_type": "markdown",
   "metadata": {},
   "source": [
    "# 4. Random Forest"
   ]
  },
  {
   "cell_type": "markdown",
   "metadata": {},
   "source": [
    "### 4.1 Random Forest Pipeline"
   ]
  },
  {
   "cell_type": "markdown",
   "metadata": {},
   "source": [
    "We no longer need to transform categorical data into dummy variables bacause no scale effects here. So slight changes are made here for previous pipelines."
   ]
  },
  {
   "cell_type": "code",
   "execution_count": 25,
   "metadata": {},
   "outputs": [],
   "source": [
    "from sklearn.ensemble import RandomForestClassifier"
   ]
  },
  {
   "cell_type": "code",
   "execution_count": 26,
   "metadata": {},
   "outputs": [],
   "source": [
    "cat_pipeline_rf = Pipeline([\n",
    "        (\"select_cat\", DataFrameSelector( cat_features )), #set the parameter for DataDrameSelector\n",
    "        (\"strtoint\", strtoint()),         #set the parameter for SimpleImputer, Use median for the missing value\n",
    "        #(\"todummy_drop\",todummy_drop())\n",
    "    ])\n",
    "\n",
    "num_pipeline_rf = Pipeline([\n",
    "        (\"select_numeric\", DataFrameSelector_toarray( num_features )), #set the parameter for DataDrameSelector\n",
    "    ])\n",
    "\n",
    "age_pipeline_rf = Pipeline([\n",
    "        (\"select_numeric\", DataFrameSelector( features_age )), #set the parameter for DataDrameSelector\n",
    "        (\"Agebucket\",  Age_bucket(n =10)),\n",
    "        #(\" todummy_drop\",  todummy_drop())\n",
    "  \n",
    "    ])\n",
    "    \n",
    "preprocess_pipeline_rf = FeatureUnion(transformer_list=[\n",
    "        (\"num_pipeline\", num_pipeline_rf),\n",
    "        (\"cat_pipeline\", cat_pipeline_rf),\n",
    "        (\"age_pipeline\", age_pipeline_rf)\n",
    "    ])"
   ]
  },
  {
   "cell_type": "code",
   "execution_count": 27,
   "metadata": {},
   "outputs": [
    {
     "name": "stdout",
     "output_type": "stream",
     "text": [
      "Transform age into 6.0 buckets and 5.0 dummy variables\n"
     ]
    }
   ],
   "source": [
    "X_2 = preprocess_pipeline_rf.fit_transform(data_train)\n",
    "X_train_2, X_test_2, y_train_2, y_test_2 = train_test_split(X_2, y, test_size=0.3,random_state=1)"
   ]
  },
  {
   "cell_type": "markdown",
   "metadata": {},
   "source": [
    "### 4.2 Finding the optimal number and depth of trees using cross validation"
   ]
  },
  {
   "cell_type": "code",
   "execution_count": 28,
   "metadata": {},
   "outputs": [],
   "source": [
    "def find_optimal_maxdep(X_train, y_train):\n",
    "    res = []\n",
    "    opt = 0\n",
    "    for i in np.arange(1,20):\n",
    "        rf = RandomForestClassifier(n_estimators=100, max_depth=i,random_state=1)\n",
    "        SCORE = cross_val_score(rf, X_train_2, y_train_2, cv=5, scoring=\"accuracy\")\n",
    "        res.append(SCORE.mean())\n",
    "    plt.plot(np.arange(1,20),res)\n",
    "    return res\n",
    "\n",
    "def find_optimal_nest(X_train_2, y_train_2):\n",
    "    res = []\n",
    "    for i in np.arange(1,500,5):\n",
    "        rf = RandomForestClassifier(n_estimators=i, max_depth=7,random_state=1)\n",
    "        SCORE = cross_val_score(rf, X_train_2, y_train_2, cv=5, scoring=\"accuracy\")\n",
    "        res.append(SCORE.mean())\n",
    "    plt.plot(np.arange(1,500,5),res)\n",
    "    return res"
   ]
  },
  {
   "cell_type": "code",
   "execution_count": 29,
   "metadata": {},
   "outputs": [
    {
     "data": {
      "image/png": "[encoded data removed]",
      "text/plain": [
       "<Figure size 432x288 with 1 Axes>"
      ]
     },
     "metadata": {},
     "output_type": "display_data"
    }
   ],
   "source": [
    "Score_rf_all =find_optimal_maxdep(X_train_2, y_train_2)"
   ]
  },
  {
   "cell_type": "code",
   "execution_count": 30,
   "metadata": {},
   "outputs": [
    {
     "data": {
      "image/png": "[encoded data removed]",
      "text/plain": [
       "<Figure size 432x288 with 1 Axes>"
      ]
     },
     "metadata": {},
     "output_type": "display_data"
    }
   ],
   "source": [
    "Score_rf_nest =find_optimal_nest(X_train_2, y_train_2)"
   ]
  },
  {
   "cell_type": "markdown",
   "metadata": {},
   "source": [
    "After observation of the two graphes above, I decide to choose **100** for `n_estimators` and **7** for `max_depth`"
   ]
  },
  {
   "cell_type": "markdown",
   "metadata": {},
   "source": [
    "### 4.3 Cross validation and prediction on testing set"
   ]
  },
  {
   "cell_type": "code",
   "execution_count": 31,
   "metadata": {},
   "outputs": [
    {
     "data": {
      "text/plain": [
       "0.7271475949939137"
      ]
     },
     "execution_count": 31,
     "metadata": {},
     "output_type": "execute_result"
    }
   ],
   "source": [
    "rf_clf = RandomForestClassifier(n_estimators=100, max_depth=7,random_state=1)\n",
    "SCORE_2 = cross_val_score(rf_clf, X_train, y_train, cv=5, scoring=\"accuracy\")\n",
    "SCORE_2 = SCORE_2.mean()\n",
    "SCORE_2"
   ]
  },
  {
   "cell_type": "code",
   "execution_count": 32,
   "metadata": {},
   "outputs": [
    {
     "name": "stdout",
     "output_type": "stream",
     "text": [
      "Random Forest Model  : Accuracy = 0.7271\n"
     ]
    }
   ],
   "source": [
    "print(\"{s}: Accuracy = {a:.4f}\".format(s=\"Random Forest Model  \", a=SCORE_2.mean()))"
   ]
  },
  {
   "cell_type": "code",
   "execution_count": 33,
   "metadata": {},
   "outputs": [],
   "source": [
    "expected_2 = y_train_2\n",
    "predicted_2 = cross_val_predict(rf_clf, X_train_2, y_train_2, cv=5)\n",
    "confusion_mat_rf_1 = metrics.confusion_matrix(expected_2, predicted_2)"
   ]
  },
  {
   "cell_type": "code",
   "execution_count": 34,
   "metadata": {},
   "outputs": [
    {
     "name": "stdout",
     "output_type": "stream",
     "text": [
      "Confusion matrix, without normalization\n"
     ]
    },
    {
     "data": {
      "image/png": "[encoded data removed]",
      "text/plain": [
       "<Figure size 432x288 with 2 Axes>"
      ]
     },
     "metadata": {},
     "output_type": "display_data"
    }
   ],
   "source": [
    "plot_confusion_matrix(confusion_mat_rf_1, range(2))"
   ]
  },
  {
   "cell_type": "code",
   "execution_count": 35,
   "metadata": {},
   "outputs": [
    {
     "name": "stdout",
     "output_type": "stream",
     "text": [
      "On the training set, the accuracy is 0.9029\n",
      "On the testing set, the accuracy is 0.7500\n"
     ]
    }
   ],
   "source": [
    "rf_clf_test = RandomForestClassifier(n_estimators=100, max_depth=7,random_state=1)\n",
    "rf_clf_test.fit(X_train_2,y_train_2)\n",
    "print(\"On the training set, the accuracy is {t:.4f}\".format(t =rf_clf_test.score(X_train_2,y_train_2) ))\n",
    "print(\"On the testing set, the accuracy is {t:.4f}\".format(t = rf_clf_test.score(X_test_2,y_test_2)))"
   ]
  },
  {
   "cell_type": "code",
   "execution_count": 36,
   "metadata": {},
   "outputs": [
    {
     "name": "stdout",
     "output_type": "stream",
     "text": [
      "Given good credit customer,prediction accuracy is 0.9300411522633745\n",
      "Given poor credit customer,prediction accuracy(Precision) is 0.3878504672897196\n"
     ]
    }
   ],
   "source": [
    "t1 = confusion_mat_rf_1[0][0]/(confusion_mat_rf_1[0][0]+confusion_mat_rf_1[0][1])\n",
    "t2 = confusion_mat_rf_1[1][1]/(confusion_mat_rf_1[1][1]+confusion_mat_rf_1[1][0])\n",
    "print(\"Given good credit customer,prediction accuracy is {t1}\".format(t1 =t1))\n",
    "print(\"Given poor credit customer,prediction accuracy(Precision) is {t2}\".format(t2 =t2))"
   ]
  },
  {
   "cell_type": "markdown",
   "metadata": {},
   "source": [
    "**Comparison of Random Forest and Logistic Model**: \n",
    "- Accuracy: The accuracy in both models are similar. \n",
    "- Precision: As we can see in the confusion matrix. Random Forest has even **more serious problem predicting poor credit customers.(low precision)** "
   ]
  },
  {
   "cell_type": "markdown",
   "metadata": {},
   "source": [
    "### 4.4 Dealing with unbalanced data problem"
   ]
  },
  {
   "cell_type": "markdown",
   "metadata": {},
   "source": [
    "I use the same weight as Logistic Model."
   ]
  },
  {
   "cell_type": "code",
   "execution_count": 37,
   "metadata": {},
   "outputs": [
    {
     "data": {
      "text/plain": [
       "0.75"
      ]
     },
     "execution_count": 37,
     "metadata": {},
     "output_type": "execute_result"
    }
   ],
   "source": [
    "rf_clf_test_ba = RandomForestClassifier(n_estimators=100, max_depth=7,random_state=1,class_weight={1:0.25,2:0.75})\n",
    "rf_clf_test_ba.fit(X_train_2,y_train_2)\n",
    "rf_clf_test_ba.score(X_test_2,y_test_2)\n"
   ]
  },
  {
   "cell_type": "code",
   "execution_count": 38,
   "metadata": {},
   "outputs": [],
   "source": [
    "expected_rf_ba = y_test_2\n",
    "predicted_rf_ba = rf_clf_test_ba.predict(X_test_2)\n",
    "confusion_mat_rf_ba = metrics.confusion_matrix(expected_rf_ba, predicted_rf_ba)"
   ]
  },
  {
   "cell_type": "code",
   "execution_count": 39,
   "metadata": {},
   "outputs": [
    {
     "name": "stdout",
     "output_type": "stream",
     "text": [
      "Confusion matrix, without normalization\n"
     ]
    },
    {
     "data": {
      "image/png": "[encoded data removed]",
      "text/plain": [
       "<Figure size 432x288 with 2 Axes>"
      ]
     },
     "metadata": {},
     "output_type": "display_data"
    }
   ],
   "source": [
    "plot_confusion_matrix(confusion_mat_rf_ba, range(2))"
   ]
  },
  {
   "cell_type": "code",
   "execution_count": 40,
   "metadata": {},
   "outputs": [
    {
     "name": "stdout",
     "output_type": "stream",
     "text": [
      "Given good credit customer,prediction accuracy is 0.8037383177570093\n",
      "Given poor credit customer,prediction accuracy(Precision) is 0.6162790697674418\n"
     ]
    }
   ],
   "source": [
    "t1 = confusion_mat_rf_ba[0][0]/(confusion_mat_rf_ba[0][0]+confusion_mat_rf_ba[0][1])\n",
    "t2 = confusion_mat_rf_ba[1][1]/(confusion_mat_rf_ba[1][1]+confusion_mat_rf_ba[1][0])\n",
    "print(\"Given good credit customer,prediction accuracy is {t1}\".format(t1 =t1))\n",
    "print(\"Given poor credit customer,prediction accuracy(Precision) is {t2}\".format(t2 =t2))"
   ]
  },
  {
   "cell_type": "markdown",
   "metadata": {},
   "source": [
    "Conclusion: Using the same weights in Logistic Model may not be enough in Random Forest. We actually here should change the weight into something with larger diference like {0:0.2,1:0.8} or {0:0.1,1:0.9}"
   ]
  },
  {
   "cell_type": "markdown",
   "metadata": {},
   "source": [
    "### 4.5 Deciding the weights for Random Forest"
   ]
  },
  {
   "cell_type": "markdown",
   "metadata": {},
   "source": [
    "To determine what the weight should be, we need to have another set to test the optimal weights.(Testing set should be used only once. If we now still use testing set and change weights, **We have already peeked on data!**\n",
    "\n",
    "So the data set should be split into **three** from at the first place. Let's call them Train set, Test set and final set. **Test set** is used to determin the weights and **final set** is used to evluate the result."
   ]
  },
  {
   "cell_type": "code",
   "execution_count": 41,
   "metadata": {},
   "outputs": [],
   "source": [
    "X_train_3, X_test_3, y_train_3, y_test_3 = train_test_split(X_2, y, test_size=0.3,random_state=1)\n",
    "X_test_3, X_final_3, y_test_3, y_final_3 = train_test_split(X_test_3, y_test_3, test_size=0.33333,random_state=1)"
   ]
  },
  {
   "cell_type": "code",
   "execution_count": 42,
   "metadata": {},
   "outputs": [],
   "source": [
    "def precision_weights(X_train_2,y_train_2,X_test_2,y_test_2):\n",
    "    score = []\n",
    "    precision = []\n",
    "    for i in np.arange(0,1,0.01):\n",
    "        rf_clf_test_ba = RandomForestClassifier(n_estimators=170, max_depth=7,random_state=1,class_weight={1:i,2:1-i})\n",
    "        rf_clf_test_ba.fit(X_train_2,y_train_2)\n",
    "        score.append(rf_clf_test_ba.score(X_test_2,y_test_2))\n",
    "        expected_rf_ba = y_test_2\n",
    "        predicted_rf_ba = rf_clf_test_ba.predict(X_test_2)\n",
    "        confusion_mat_rf_ba = metrics.confusion_matrix(expected_rf_ba, predicted_rf_ba)\n",
    "        precision.append(confusion_mat_rf_ba[1][1]/(confusion_mat_rf_ba[1][1]+confusion_mat_rf_ba[1][0]))\n",
    "    plt.plot(np.arange(0,1,0.01),score,label='Score')\n",
    "    plt.plot(np.arange(0,1,0.01),precision,label='Precision')\n",
    "    return [score, precision]"
   ]
  },
  {
   "cell_type": "code",
   "execution_count": 43,
   "metadata": {},
   "outputs": [
    {
     "data": {
      "image/png": "[encoded data removed]",
      "text/plain": [
       "<Figure size 432x288 with 1 Axes>"
      ]
     },
     "metadata": {},
     "output_type": "display_data"
    }
   ],
   "source": [
    "score,precision = precision_weights(X_train_3,y_train_3,X_test_3,y_test_3)"
   ]
  },
  {
   "cell_type": "markdown",
   "metadata": {},
   "source": [
    "According to the graph above, weights of{1:0.1,2:0.9} is chosen"
   ]
  },
  {
   "cell_type": "code",
   "execution_count": 44,
   "metadata": {},
   "outputs": [
    {
     "data": {
      "text/plain": [
       "0.59"
      ]
     },
     "execution_count": 44,
     "metadata": {},
     "output_type": "execute_result"
    }
   ],
   "source": [
    "rf_clf_test_ba_2 = RandomForestClassifier(n_estimators=100, max_depth=7,random_state=1,class_weight={1:0.1,2:0.9})\n",
    "rf_clf_test_ba_2.fit(X_train_3,y_train_3)\n",
    "rf_clf_test_ba_2.score(X_final_3,y_final_3)"
   ]
  },
  {
   "cell_type": "code",
   "execution_count": 45,
   "metadata": {},
   "outputs": [],
   "source": [
    "expected_rf_ba_2 = y_final_3\n",
    "predicted_rf_ba_2 = rf_clf_test_ba.predict(X_final_3)\n",
    "confusion_mat_rf_ba_2 = metrics.confusion_matrix(expected_rf_ba_2, predicted_rf_ba_2)"
   ]
  },
  {
   "cell_type": "code",
   "execution_count": 46,
   "metadata": {},
   "outputs": [
    {
     "name": "stdout",
     "output_type": "stream",
     "text": [
      "Confusion matrix, without normalization\n"
     ]
    },
    {
     "data": {
      "image/png": "[encoded data removed]",
      "text/plain": [
       "<Figure size 432x288 with 2 Axes>"
      ]
     },
     "metadata": {},
     "output_type": "display_data"
    }
   ],
   "source": [
    "plot_confusion_matrix(confusion_mat_rf_ba_2, range(2))"
   ]
  },
  {
   "cell_type": "code",
   "execution_count": 47,
   "metadata": {},
   "outputs": [
    {
     "name": "stdout",
     "output_type": "stream",
     "text": [
      "Given good credit customer,prediction accuracy is 0.7323943661971831\n",
      "Given poor credit customer,prediction accuracy(Precision) is 0.6551724137931034\n"
     ]
    }
   ],
   "source": [
    "t1 = confusion_mat_rf_ba_2[0][0]/(confusion_mat_rf_ba_2[0][0]+confusion_mat_rf_ba_2[0][1])\n",
    "t2 = confusion_mat_rf_ba_2[1][1]/(confusion_mat_rf_ba_2[1][1]+confusion_mat_rf_ba_2[1][0])\n",
    "print(\"Given good credit customer,prediction accuracy is {t1}\".format(t1 =t1))\n",
    "print(\"Given poor credit customer,prediction accuracy(Precision) is {t2}\".format(t2 =t2))"
   ]
  },
  {
   "cell_type": "markdown",
   "metadata": {},
   "source": [
    "# 5.  Summary"
   ]
  },
  {
   "cell_type": "markdown",
   "metadata": {},
   "source": [
    "### 5.1 Accuracy Model"
   ]
  },
  {
   "cell_type": "markdown",
   "metadata": {},
   "source": [
    "If we only evaluate the model by accuracy,`Logistic Model` without changing weight is a good choice"
   ]
  },
  {
   "cell_type": "code",
   "execution_count": 48,
   "metadata": {},
   "outputs": [],
   "source": [
    "credit_model = logistic_clf_2"
   ]
  },
  {
   "cell_type": "markdown",
   "metadata": {},
   "source": [
    "### 5.2 Balanced Model"
   ]
  },
  {
   "cell_type": "code",
   "execution_count": 49,
   "metadata": {},
   "outputs": [],
   "source": [
    "credit_model_2 = rf_clf_test_ba"
   ]
  },
  {
   "cell_type": "markdown",
   "metadata": {},
   "source": [
    "**Conclusion**: \n",
    "- In terms of unbalanced, Random Forest has more serious problem than Logistic Model. It seems that it is a must for Random Forest to address unbalanced data.\n",
    "- Assigning different weights to the sample is really helpful if our goal is not soly on maximizing the accuracy but on both accuracy and percision."
   ]
  }
 ],
 "metadata": {
  "kernelspec": {
   "display_name": "Python 3",
   "language": "python",
   "name": "python3"
  },
  "language_info": {
   "codemirror_mode": {
    "name": "ipython",
    "version": 3
   },
   "file_extension": ".py",
   "mimetype": "text/x-python",
   "name": "python",
   "nbconvert_exporter": "python",
   "pygments_lexer": "ipython3",
   "version": "3.6.5"
  },
  "toc": {
   "base_numbering": 1,
   "nav_menu": {},
   "number_sections": true,
   "sideBar": true,
   "skip_h1_title": false,
   "title_cell": "Table of Contents",
   "title_sidebar": "Contents",
   "toc_cell": false,
   "toc_position": {},
   "toc_section_display": true,
   "toc_window_display": false
  }
 },
 "nbformat": 4,
 "nbformat_minor": 2
}
